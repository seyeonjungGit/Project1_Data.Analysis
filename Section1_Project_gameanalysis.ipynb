{
  "nbformat": 4,
  "nbformat_minor": 0,
  "metadata": {
    "colab": {
      "name": "Section1_Project.ipynb",
      "private_outputs": true,
      "provenance": [],
      "collapsed_sections": [],
      "toc_visible": true,
      "include_colab_link": true
    },
    "kernelspec": {
      "name": "python3",
      "display_name": "Python 3"
    },
    "language_info": {
      "name": "python"
    }
  },
  "cells": [
    {
      "cell_type": "markdown",
      "metadata": {
        "id": "view-in-github",
        "colab_type": "text"
      },
      "source": [
        "<a href=\"https://colab.research.google.com/github/seyeonjungGit/Project1_gameanalysis/blob/main/Section1_Project_gameanalysis.ipynb\" target=\"_parent\"><img src=\"https://colab.research.google.com/assets/colab-badge.svg\" alt=\"Open In Colab\"/></a>"
      ]
    },
    {
      "cell_type": "markdown",
      "metadata": {
        "id": "rKDTm1IZUPYc"
      },
      "source": [
        "# ★주제 : 다음 분기에 어떤 게임을 설계해야 할까\n",
        "\n",
        "- 목차를 활용한 영상의 대한 개요를 처음에 짚어줘면 내용을 모르는 사람이 봐도 갑작스럽지 않겠다. \n",
        "- 데이터 전처리에 대한 설명 부족.(어떻게 하면 전처리에 대해 비데이터 직군에게 효과적을 전달할 수 있을까??)\n",
        "- 도메인 지식(단종된 플랫폼 등) 이 데이터 분석에 반영되지않아 정확한 결과를 얻기에는 다소 부족할 수 있다. 다음 분기의 트렌드를 파악하기 위해 넣은 데이터의 범위(연도)가 적절한지 등, 해결하고자 하는 문제에 적합한 데이터셋을 갖춘다면 보다 더 설득력 있는 데이터 분석이 될 것이다. \n",
        "- 전처리 말고 eda를 하고난 다음에 좀더 데이터처리르 할 수 있다. \n",
        "수요자와 공급자 간에 소통을 긴밀하게 하면서, 분석을 통해 필요한게 무엇인지.. 긴밀하게 얘기를 나누어야 한다. (얼라이먼트)\n",
        "\n"
      ]
    },
    {
      "cell_type": "markdown",
      "metadata": {
        "id": "hIjKgnq7kmsI"
      },
      "source": [
        "# 데이터셋 불러오기 & 기본정보 확인 & 결측치 처리"
      ]
    },
    {
      "cell_type": "code",
      "metadata": {
        "id": "-EbJ8z_-hQvJ"
      },
      "source": [
        "import pandas as pd\n",
        "import numpy as np\n",
        "import matplotlib.pyplot as plt\n",
        "from sklearn.cluster import KMeans "
      ],
      "execution_count": null,
      "outputs": []
    },
    {
      "cell_type": "code",
      "metadata": {
        "id": "R1jeK5bDcuef"
      },
      "source": [
        "import matplotlib as mpl\n",
        "\n",
        "# 폰트 변환\n",
        "# Windows\n",
        "mpl.rc(\"font\", family='Malgun Gothic')\n",
        "# 마이너스 사인 수정\n",
        "mpl.rc('axes', unicode_minus=False)"
      ],
      "execution_count": null,
      "outputs": []
    },
    {
      "cell_type": "code",
      "metadata": {
        "id": "rg7X_64Vbdw7"
      },
      "source": [
        "##1. 데이터셋 불러오기\n",
        "\n",
        "import pandas as pd\n",
        "\n",
        "df = pd.read_csv('https://ds-lecture-data.s3.ap-northeast-2.amazonaws.com/datasets/vgames2.csv')\n",
        "df.head()"
      ],
      "execution_count": null,
      "outputs": []
    },
    {
      "cell_type": "code",
      "metadata": {
        "id": "NL-_Xm2DisFo"
      },
      "source": [
        "df['Platform'].unique()"
      ],
      "execution_count": null,
      "outputs": []
    },
    {
      "cell_type": "code",
      "metadata": {
        "id": "gVY5FTMyiA9u"
      },
      "source": [
        "df.columns"
      ],
      "execution_count": null,
      "outputs": []
    },
    {
      "cell_type": "code",
      "metadata": {
        "id": "jrqOVsL7hr86"
      },
      "source": [
        "##2. 필요없는 column drop\n",
        "\n",
        "df.drop(['Unnamed: 0'], axis=1, inplace=True)\n",
        "df.head()"
      ],
      "execution_count": null,
      "outputs": []
    },
    {
      "cell_type": "code",
      "metadata": {
        "id": "NGhl8H2TO_Jr"
      },
      "source": [
        "df.shape"
      ],
      "execution_count": null,
      "outputs": []
    },
    {
      "cell_type": "code",
      "metadata": {
        "id": "yJi5V4bhmiyU"
      },
      "source": [
        "df.dtypes"
      ],
      "execution_count": null,
      "outputs": []
    },
    {
      "cell_type": "code",
      "metadata": {
        "id": "CaR3M6nmO4kr"
      },
      "source": [
        "# 결측치 갯수확인\n",
        "print(df.isnull().sum())\n",
        "print('결측치 총 갯수 : ',df.isnull().sum().sum())"
      ],
      "execution_count": null,
      "outputs": []
    },
    {
      "cell_type": "markdown",
      "metadata": {
        "id": "uB6tSX89eQNU"
      },
      "source": [
        "# 데이터전처리1 : ['Year'] float->int 형변환, 잘못된 값 정리"
      ]
    },
    {
      "cell_type": "code",
      "metadata": {
        "id": "0H1ecqLKYsfa"
      },
      "source": [
        "df['Year'].describe()"
      ],
      "execution_count": null,
      "outputs": []
    },
    {
      "cell_type": "code",
      "metadata": {
        "id": "MEYY-Oo_xGv3"
      },
      "source": [
        "## 4. Year 이상한 값 대체(두자리, 한자리수)\n",
        "\n",
        "def Yearr(number):\n",
        "\n",
        "    try:\n",
        "\n",
        "        if number<22 :\n",
        "            return number+2000\n",
        "        \n",
        "        elif 22<=number<100 :\n",
        "            return number+1900\n",
        "\n",
        "        elif 100<=number<1000:\n",
        "            return number + 1000\n",
        "\n",
        "        else:\n",
        "            return number\n",
        "    except:\n",
        "        pass\n",
        "\n",
        "df['Year'] = df['Year'].apply(Yearr)   "
      ],
      "execution_count": null,
      "outputs": []
    },
    {
      "cell_type": "code",
      "metadata": {
        "id": "05i2heFFxiDz"
      },
      "source": [
        "df['Year'].min()"
      ],
      "execution_count": null,
      "outputs": []
    },
    {
      "cell_type": "code",
      "metadata": {
        "id": "hfsjEiGTV3ov"
      },
      "source": [
        "df['Year'].max()"
      ],
      "execution_count": null,
      "outputs": []
    },
    {
      "cell_type": "code",
      "metadata": {
        "id": "nSOEB_ugUiVK"
      },
      "source": [
        "df.shape"
      ],
      "execution_count": null,
      "outputs": []
    },
    {
      "cell_type": "code",
      "metadata": {
        "id": "weSIK_6jYu06"
      },
      "source": [
        "# 5. 결측치 대체하기\n",
        "df['Year'].fillna(0,inplace=True)"
      ],
      "execution_count": null,
      "outputs": []
    },
    {
      "cell_type": "code",
      "metadata": {
        "id": "gwpKrS2OCZii"
      },
      "source": [
        "df.shape"
      ],
      "execution_count": null,
      "outputs": []
    },
    {
      "cell_type": "code",
      "metadata": {
        "id": "e00rk5PcZiVI"
      },
      "source": [
        "# Year 결측값 제거 완료! 장르, 출판사는 어자피 문자열 객체니까 결측치 그대로 두고 가자.\n",
        "df.isnull().sum()"
      ],
      "execution_count": null,
      "outputs": []
    },
    {
      "cell_type": "code",
      "metadata": {
        "id": "oFxTaC45Um8h"
      },
      "source": [
        "df_array=pd.DataFrame(df['Year'].unique(),columns=['year'])\n",
        "df_array\n",
        "df_array_tail = pd.DataFrame(df_array.sort_values('year').tail())\n",
        "df_array_head = pd.DataFrame(df_array.sort_values('year').head())\n",
        "df_array_head\n",
        "\n",
        "# 2018, 2019년도가 결측치로 없다.(숫자 0으로 표현될 것)"
      ],
      "execution_count": null,
      "outputs": []
    },
    {
      "cell_type": "code",
      "metadata": {
        "id": "Rt1tYfmJDG22"
      },
      "source": [
        "df_array_tail"
      ],
      "execution_count": null,
      "outputs": []
    },
    {
      "cell_type": "code",
      "metadata": {
        "id": "nhOqAFH0U4bn"
      },
      "source": [
        "# 6. 형변환 : year -> float--> int\n",
        "df['Year'] = df['Year'].astype('int64')\n",
        "df.dtypes"
      ],
      "execution_count": null,
      "outputs": []
    },
    {
      "cell_type": "markdown",
      "metadata": {
        "id": "OpTbN7A17tE2"
      },
      "source": [
        "# 데이터전처리2 : Publisher, NA_Sales, EU_Sales, JP_Sales, Other_Sales 형변환"
      ]
    },
    {
      "cell_type": "code",
      "metadata": {
        "id": "pGXr322cYr8a"
      },
      "source": [
        "##7. feature값 전처리 함수\n",
        "\n",
        "def reVise(column):\n",
        "    if 'M' in column:\n",
        "        m = float(column.replace('M',''))\n",
        "        return m\n",
        "\n",
        "    elif 'K' in column:\n",
        "        k = float(column.replace('K',''))\n",
        "        return k/1000\n",
        "\n",
        "    else:\n",
        "        return column\n",
        "\n",
        "df['NA_Sales'] = df['NA_Sales'].apply(reVise)\n",
        "df['EU_Sales'] = df['EU_Sales'].apply(reVise)\n",
        "df['JP_Sales'] = df['JP_Sales'].apply(reVise)\n",
        "df['Other_Sales'] = df['Other_Sales'].apply(reVise)"
      ],
      "execution_count": null,
      "outputs": []
    },
    {
      "cell_type": "code",
      "metadata": {
        "id": "pDzLLcME3si9"
      },
      "source": [
        "df.dtypes"
      ],
      "execution_count": null,
      "outputs": []
    },
    {
      "cell_type": "code",
      "metadata": {
        "id": "SJm-PZ3VDN3M"
      },
      "source": [
        "# 확인\n",
        "df.iloc[:30,:]"
      ],
      "execution_count": null,
      "outputs": []
    },
    {
      "cell_type": "code",
      "metadata": {
        "id": "Bh_4blvDCgv0"
      },
      "source": [
        "##8. 데이터 프레임 column자체의 형 변환 해주기.\n",
        "\n",
        "temp = df.iloc[:, 5:]\n",
        "for i in range(4):\n",
        "    temp.iloc[:,i] = pd.to_numeric(temp.iloc[:,i])  # pd.to_numeric : 하나의 어레이?만 받는다. \n",
        "\n",
        "temp.dtypes"
      ],
      "execution_count": null,
      "outputs": []
    },
    {
      "cell_type": "code",
      "metadata": {
        "id": "FRRRmUJzF3Ee"
      },
      "source": [
        "##9. 데이터프레임 원본에 씌워주기.\n",
        "df.iloc[:,5:] = temp\n",
        "df.dtypes"
      ],
      "execution_count": null,
      "outputs": []
    },
    {
      "cell_type": "code",
      "metadata": {
        "id": "831dGkmRcgWG"
      },
      "source": [
        "## 10. 중복데이터 확인 후 삭제\n",
        "\n",
        "df.duplicated().sum()\n",
        "\n",
        "df.drop_duplicates(inplace=True)\n",
        "df.duplicated().sum()\n"
      ],
      "execution_count": null,
      "outputs": []
    },
    {
      "cell_type": "code",
      "metadata": {
        "id": "vdFzaGsQDoWu"
      },
      "source": [
        "df.shape"
      ],
      "execution_count": null,
      "outputs": []
    },
    {
      "cell_type": "markdown",
      "metadata": {
        "id": "SVfbwkGXlVkm"
      },
      "source": [
        "# 데이터전처리3 : ['Year'] 의 결측치 처리."
      ]
    },
    {
      "cell_type": "code",
      "metadata": {
        "id": "2mKf4fSFlq4Y"
      },
      "source": [
        "\n",
        "df_number = pd.DataFrame(df['Year'].value_counts())  #datarfame(유일한 값별 갯수세기)\n",
        "df_number.head()\n",
        "df_number.sort_index().tail()  #인덱스 정렬\n"
      ],
      "execution_count": null,
      "outputs": []
    },
    {
      "cell_type": "code",
      "metadata": {
        "id": "gWvvWPS83gFm"
      },
      "source": [
        "# 결측년도의 플랫폼만 모아보기. \n",
        "\n",
        "df_0 = df[df['Year'] == 0]\n",
        "df_0['Platform'].value_counts()\n"
      ],
      "execution_count": null,
      "outputs": []
    },
    {
      "cell_type": "code",
      "metadata": {
        "id": "j0zwpZBgDuMb"
      },
      "source": [
        "## 11. 데이터프레임 Year중에서 0인거 다 뺀다.\n",
        "df = df[df.Year > 0]\n",
        "df.shape\n"
      ],
      "execution_count": null,
      "outputs": []
    },
    {
      "cell_type": "code",
      "metadata": {
        "id": "SAL3y3-hhGYB"
      },
      "source": [
        "## 12. 인덱스 재정렬\n",
        "\n",
        "df = df.reset_index(drop=True)\n",
        "df.tail()"
      ],
      "execution_count": null,
      "outputs": []
    },
    {
      "cell_type": "code",
      "metadata": {
        "id": "9RdQ12-7qpUW"
      },
      "source": [
        "df['Year'].unique()"
      ],
      "execution_count": null,
      "outputs": []
    },
    {
      "cell_type": "code",
      "metadata": {
        "id": "B8TcllVNmdu5"
      },
      "source": [
        "df.shape"
      ],
      "execution_count": null,
      "outputs": []
    },
    {
      "cell_type": "markdown",
      "metadata": {
        "id": "lr2uJIlEk0aI"
      },
      "source": [
        "# ★1.지역에 따라서 선호하는 게임 장르가 다를까\n"
      ]
    },
    {
      "cell_type": "markdown",
      "metadata": {
        "id": "lq-f339TCndy"
      },
      "source": [
        "## 1) 전처리 및 정보 알아보기"
      ]
    },
    {
      "cell_type": "code",
      "metadata": {
        "id": "HwnK7-jBMSyu"
      },
      "source": [
        "df.head()"
      ],
      "execution_count": null,
      "outputs": []
    },
    {
      "cell_type": "code",
      "metadata": {
        "id": "JjgJmpAWMppL"
      },
      "source": [
        "# 게임장르 종류는 뭐가있을까?\n",
        "df['Genre'].unique()\n",
        "\n",
        "# 그렇다면, 장르별로 지역의 출고량이 어떻게 될까?"
      ],
      "execution_count": null,
      "outputs": []
    },
    {
      "cell_type": "code",
      "metadata": {
        "id": "A32PlgreQAY1"
      },
      "source": [
        "# 데이터프레임 보기편하게 자르기\n",
        "temp10 = df.iloc[:,[3,5,6,7,8]]\n",
        "temp10.head()"
      ],
      "execution_count": null,
      "outputs": []
    },
    {
      "cell_type": "markdown",
      "metadata": {
        "id": "k8FC7yvFC_bU"
      },
      "source": [
        "## 2) 장르별 지역출고량의 총합 : NA_Sales > EU_Sales > JP_Sales > Other_Sales\t"
      ]
    },
    {
      "cell_type": "code",
      "metadata": {
        "id": "1qYwFe-WP-d3"
      },
      "source": [
        "# 장르별로 지역출고량 총합 알아보자.\n",
        "\n",
        "wide_sum = temp10.pivot_table(index = 'Genre',aggfunc = 'sum', margins=True, margins_name='합계') \n",
        "wide_sum\n"
      ],
      "execution_count": null,
      "outputs": []
    },
    {
      "cell_type": "code",
      "metadata": {
        "id": "-oENdTSvAgLD"
      },
      "source": [
        "# 총합 판매량이 가장 많은 나라 순서대로 정렬\n",
        "\n",
        "wide2 = wide_sum.T\n",
        "wide2_sorted = wide2.sort_values('합계', ascending=False)\n",
        "wide2_sum_sorted = pd.DataFrame(wide2_sorted.iloc[:,-1])\n",
        "wide2_sum_sorted.reset_index(inplace=True)"
      ],
      "execution_count": null,
      "outputs": []
    },
    {
      "cell_type": "code",
      "metadata": {
        "id": "GJ6bqKhlBFwL"
      },
      "source": [
        "# 합계 정렬\n",
        "wide2_sum_sorted"
      ],
      "execution_count": null,
      "outputs": []
    },
    {
      "cell_type": "markdown",
      "metadata": {
        "id": "Vfzk-ISdDNY5"
      },
      "source": [
        "## 3) 나라별 출고량 시각화"
      ]
    },
    {
      "cell_type": "code",
      "metadata": {
        "id": "iGx4aLfI2LEf"
      },
      "source": [
        "# 그래프 그리기 쉽게 전처리\n",
        "wide= temp10.pivot_table(index = 'Genre',aggfunc = 'sum')\n",
        "wide"
      ],
      "execution_count": null,
      "outputs": []
    },
    {
      "cell_type": "code",
      "metadata": {
        "id": "ibhnUzL-4C2S"
      },
      "source": [
        "# 그래프 그리기 쉽게2 : 인덱스 reset\n",
        "wide.reset_index(inplace=True)\n",
        "wide"
      ],
      "execution_count": null,
      "outputs": []
    },
    {
      "cell_type": "markdown",
      "metadata": {
        "id": "kftc34h_Ddyd"
      },
      "source": [
        "### ★북미지역 출고량('NA_Sales') na"
      ]
    },
    {
      "cell_type": "code",
      "metadata": {
        "id": "zkAYo9RZBzQF"
      },
      "source": [
        "na=wide.sort_values('NA_Sales', ascending=False)  #북미지역 출고량 순서대로 정렬\n",
        "na=na.reset_index(drop=True)\n",
        "na=na.iloc[:,[0,3]]\n",
        "na"
      ],
      "execution_count": null,
      "outputs": []
    },
    {
      "cell_type": "code",
      "metadata": {
        "id": "uvkXE_vwFCru"
      },
      "source": [
        "import matplotlib.pyplot as plt\n",
        "import numpy as np\n",
        "plt.rcParams[\"figure.figsize\"] = (10,4)\n",
        "y=np.arange(12)\n",
        "genre = na['Genre']\n",
        "values = na['NA_Sales']\n",
        "\n",
        "plt.barh(y, values, tick_label=genre)\n",
        "plt.gca().invert_yaxis()  #막대 순을 역순으로 배열.\n",
        "plt.show()"
      ],
      "execution_count": null,
      "outputs": []
    },
    {
      "cell_type": "code",
      "metadata": {
        "id": "S7GkdO-4UEry"
      },
      "source": [
        "import matplotlib.pyplot as plt\n",
        "plt.rcParams[\"figure.figsize\"] = (14,10)  #그래프 전체크기 조절\n",
        "genre = na['Genre']\n",
        "values = na['NA_Sales']\n",
        "wedgeprops={'width': 0.7, 'edgecolor': 'w', 'linewidth': 5}  #부채꼴만들기\n",
        "colors=['gold','#ff9999', '#ffc000', '#8fd9b6', '#d395d0','whitesmoke','whitesmoke','whitesmoke','whitesmoke','whitesmoke','whitesmoke','whitesmoke']\n",
        "plt.pie(values, labels=genre, autopct='%.1f%%', wedgeprops=wedgeprops, colors=colors)\n",
        "\n",
        "plt.show()"
      ],
      "execution_count": null,
      "outputs": []
    },
    {
      "cell_type": "markdown",
      "metadata": {
        "id": "5AR7bry_DWwo"
      },
      "source": [
        "### 유럽지역 출고량('EU_Sales') eu"
      ]
    },
    {
      "cell_type": "code",
      "metadata": {
        "id": "fF4GrJPS-LBT"
      },
      "source": [
        "eu=wide.sort_values('EU_Sales', ascending=False)  #유럽지역 출고량 순서대로 정렬\n",
        "eu=eu.reset_index(drop=True)\n",
        "eu = eu.iloc[:,0:2]\n",
        "eu"
      ],
      "execution_count": null,
      "outputs": []
    },
    {
      "cell_type": "code",
      "metadata": {
        "id": "ldEA4HyiEp5H"
      },
      "source": [
        "import matplotlib.pyplot as plt\n",
        "import numpy as np\n",
        "plt.rcParams[\"figure.figsize\"] = (10,4)\n",
        "y=np.arange(12)\n",
        "genre = eu['Genre']\n",
        "values = eu['EU_Sales']\n",
        "\n",
        "plt.barh(y, values, tick_label=genre)\n",
        "plt.gca().invert_yaxis()  #막대 순을 역순으로 배열.\n",
        "plt.show()\n",
        "\n",
        "\n",
        "# https://frhyme.github.io/python-libs/plt_y_axis_reverse/"
      ],
      "execution_count": null,
      "outputs": []
    },
    {
      "cell_type": "code",
      "metadata": {
        "id": "sjRP2CwJ1Udm"
      },
      "source": [
        "import matplotlib.pyplot as plt\n",
        "\n",
        "plt.rcParams[\"figure.figsize\"] = (14,10)  #그래프 전체크기 조절\n",
        "genre = eu['Genre']\n",
        "values = eu['EU_Sales']\n",
        "wedgeprops={'width': 0.7, 'edgecolor': 'w', 'linewidth': 5}  #부채꼴만들기\n",
        "colors=['gold','#ff9999', '#ffc000', '#8fd9b6', '#d395d0','whitesmoke','whitesmoke','whitesmoke','whitesmoke','whitesmoke','whitesmoke','whitesmoke']\n",
        "plt.pie(values, labels=genre, autopct='%.1f%%', wedgeprops=wedgeprops, colors=colors)\n",
        "\n",
        "plt.show()\n",
        "\n",
        "# g한눈에 안보이고 너무 작아!!!\n",
        "#https://wikidocs.net/92114"
      ],
      "execution_count": null,
      "outputs": []
    },
    {
      "cell_type": "markdown",
      "metadata": {
        "id": "uHWTnR5sDbuX"
      },
      "source": [
        "### ★일본지역 출고량('JP_Sales') jp"
      ]
    },
    {
      "cell_type": "code",
      "metadata": {
        "id": "TD2HzQD4-Xfo"
      },
      "source": [
        "jp=wide.sort_values('JP_Sales', ascending=False)  #일본지역 출고량 순서대로 정렬\n",
        "jp=jp.reset_index(drop=True)\n",
        "jp=jp.iloc[:,[0,2]]\n",
        "jp"
      ],
      "execution_count": null,
      "outputs": []
    },
    {
      "cell_type": "code",
      "metadata": {
        "id": "1dEFAjVmE2Cg"
      },
      "source": [
        "import matplotlib.pyplot as plt\n",
        "import numpy as np\n",
        "plt.rcParams[\"figure.figsize\"] = (10,4)\n",
        "\n",
        "y=np.arange(12)\n",
        "genre = jp['Genre']\n",
        "values = jp['JP_Sales']\n",
        "\n",
        "plt.barh(y, values, tick_label=genre)\n",
        "plt.gca().invert_yaxis()  #막대 순을 역순으로 배열.\n",
        "plt.show()\n"
      ],
      "execution_count": null,
      "outputs": []
    },
    {
      "cell_type": "code",
      "metadata": {
        "id": "H_lTEVCLT8jP"
      },
      "source": [
        "import matplotlib.pyplot as plt\n",
        "plt.rcParams[\"figure.figsize\"] = (14,10)  #그래프 전체크기 조절\n",
        "\n",
        "genre = jp['Genre']\n",
        "values = jp['JP_Sales']\n",
        "wedgeprops={'width': 0.7, 'edgecolor': 'w', 'linewidth': 5}  #부채꼴만들기\n",
        "colors=['gold','#ff9999', '#ffc000', '#8fd9b6', '#d395d0','whitesmoke','whitesmoke','whitesmoke','whitesmoke','whitesmoke','whitesmoke','whitesmoke']\n",
        "plt.pie(values, labels=genre, autopct='%.1f%%', wedgeprops=wedgeprops, colors=colors)\n",
        "\n",
        "plt.show()"
      ],
      "execution_count": null,
      "outputs": []
    },
    {
      "cell_type": "markdown",
      "metadata": {
        "id": "O9976l0zDf04"
      },
      "source": [
        "### 기타지역 출고량('Other_Sales') other"
      ]
    },
    {
      "cell_type": "code",
      "metadata": {
        "id": "iC_1wvSnCH0M"
      },
      "source": [
        "other=wide.sort_values('Other_Sales', ascending=False)  #기타지역 출고량 순서대로 정렬\n",
        "other=other.reset_index(drop=True)\n",
        "other=other.iloc[:,[0,4]]\n",
        "other"
      ],
      "execution_count": null,
      "outputs": []
    },
    {
      "cell_type": "code",
      "metadata": {
        "id": "Pov38HvDFNaI"
      },
      "source": [
        "import matplotlib.pyplot as plt\n",
        "import numpy as np\n",
        "plt.rcParams[\"figure.figsize\"] = (10,4)\n",
        "y=np.arange(12)\n",
        "genre = other['Genre']\n",
        "values = other['Other_Sales']\n",
        "\n",
        "plt.barh(y, values, tick_label=genre)\n",
        "plt.gca().invert_yaxis()  #막대 순을 역순으로 배열.\n",
        "plt.show()"
      ],
      "execution_count": null,
      "outputs": []
    },
    {
      "cell_type": "code",
      "metadata": {
        "id": "bkEDsR4EUTfV"
      },
      "source": [
        "import matplotlib.pyplot as plt\n",
        "plt.rcParams[\"figure.figsize\"] = (14,10)  #그래프 전체크기 조절\n",
        "\n",
        "genre = other['Genre']\n",
        "values = other['Other_Sales']\n",
        "wedgeprops={'width': 0.7, 'edgecolor': 'w', 'linewidth': 5}  #부채꼴만들기\n",
        "colors=['gold','#ff9999', '#ffc000', '#8fd9b6', '#d395d0','whitesmoke','whitesmoke','whitesmoke','whitesmoke','whitesmoke','whitesmoke','whitesmoke']\n",
        "plt.pie(values, labels=genre, autopct='%.1f%%', wedgeprops=wedgeprops, colors=colors)\n",
        "\n",
        "plt.show()"
      ],
      "execution_count": null,
      "outputs": []
    },
    {
      "cell_type": "code",
      "metadata": {
        "id": "JpiP7nMZ7yxn"
      },
      "source": [
        "df_N_E = na.merge(eu, how='inner', on='Genre')\n",
        "df_NE_J = df_N_E.merge(jp,how='inner', on='Genre')\n",
        "df_NEJ_O = df_NE_J.merge(other, how='inner', on='Genre') #가장 판매량이 많은 북미를 중심으로 자료를 합하였다. \n",
        "df_NEJO = df_NEJ_O.set_index('Genre')  # 인덱스 원하는걸로 설정\n",
        "\n",
        "df_NEJO.loc['[  출고량 합계  ]'] = df_NEJ_O.sum() #합계도 함께 표시해줌.\n",
        "df_NEJO\n"
      ],
      "execution_count": null,
      "outputs": []
    },
    {
      "cell_type": "markdown",
      "metadata": {
        "id": "hvoNZjMgEVD4"
      },
      "source": [
        "## ★4) 가설검정\n",
        "- 귀무가설 : 지역에 따라서 선호하는 게임장르에 차이가 없을것이다.\n",
        "- 대립가설 : 지역에 따라 선호하는 게임장르에는 차이가 있다. \n",
        "- ANOBA 검정 사용"
      ]
    },
    {
      "cell_type": "code",
      "metadata": {
        "id": "IedBcTADfr4z"
      },
      "source": [
        "wide_sum.head()"
      ],
      "execution_count": null,
      "outputs": []
    },
    {
      "cell_type": "code",
      "metadata": {
        "id": "7UmNVB0bYTyW"
      },
      "source": [
        "from scipy.stats import f_oneway\n",
        "g1 = wide_sum['EU_Sales']\n",
        "g2 = wide_sum['JP_Sales']\n",
        "g3 = wide_sum['Other_Sales']\n",
        "g4 = wide_sum['NA_Sales']\n",
        "\n",
        "f_oneway(g1, g2, g3, g4)\n",
        "\n",
        "# p-value가 0.18로, 귀무가설이 옳을 확률이 10% 이상이다. 즉, 귀무가설은 틀리지 않았다. \n",
        "# 북미, 유럽, 일본, 기타지역에 따라 선호하는 게임장르에 차이가 없을 것이라는 가설은 틀렸다고 할수 없다. "
      ],
      "execution_count": null,
      "outputs": []
    },
    {
      "cell_type": "markdown",
      "metadata": {
        "id": "-0tfSmvORPk4"
      },
      "source": [
        "## 5) 결론\n",
        "\n",
        "- 북미, 유럽, 일본, 그 외 기타지역별로 장르별 출고량을 살펴보았다.\n",
        "- 북미의 경우 총 게임출고량의 19.9%가 액션장르, 15.5%가 스포츠장르, 13.3가 슈터 장르로 각각 1,2,3순위를 차지했다. \n",
        "- 유럽지역은 1위 액션 21.5%, 2위 스포츠 15.5%, 3위 슈터 13퍼센트를 차지했고, \n",
        "- 기타 다른 지역에서도 액션 23,5%, 스포츠 16.9%, 슈터 13%로 북미, 유럽과 게임장르의 선호도에 차이가 없었다. \n",
        "- 다만 일본지역은 1위 롤플레잉장르가 27%, 2위 액션장르 12,3%, 3위 스포츠장르 10.6%로 선호하는 장르에 다소 차이를 보였으며\n",
        "- 북미, 유럽 및 기타지역에서 3위로 선호되던 슈터 장르가 3%의 비율로 낮은 선호도를 나타내었다.\n",
        "\n",
        "- 나라별 게임출고량 총 합계를 비교했을 때 북미는 약 43억7백4만개, 유럽 약 23억 9천3백57만개, 일본 12억 7천1백 39만개, 기타지역 7억 8천3백 37만개의 총 출고량을 나타내고 있다. 따라서 1위가 북미, 2위가 유럽, 3위 일본, 4위 기타지역 순이다.\n",
        "- 북미의 출고량이 2위인 유럽의 출고량보다 약 2배가량 높고 2,3,4위 세 개의 지역을 합한 것과 비슷하다. \n",
        "- 따라서 다음분기에 어떤 게임장르를 제작하면 좋을지에 대해, 북미를 중심으로 다른 지역의 장르별 출고량을 비교해볼 수 있다.\n",
        "- 일본의 게임선호장르 1위가 다른지역과 차이가 있지만, 아노바테스트 결과 그 차이가 결정적으로 유의미하다고 할수 없다. \n",
        "- 또한 일본지역 총 출고량이나 1위 롤플레잉 장르의 출고량은 전체 출고량에서 절대적인 수치가 낮으므로, 다음분기에는 나머지 세 지역에서 가장 선호도가 높은 액션장르를 제작하는것이 효율적이다. \n",
        "- 그러나 이 조사에서는 스마트폰 보급이나 연도별 게임 트렌드를 고려하지 않고, 단순하게 나라별로 어떤 장르를 선호하는가를 1980년부터 2016년도까지 도출해낸 것이므로, 다음분기 게임제작에서 타켓팅을 어디로 할 것인가에 대한 정보를 참고할 수 있을 것이다. 압도적인 차이로 북미가 1위이므로, 북미에서 선호하는 장르를 기준으로 하여 제작함이 옳다. "
      ]
    },
    {
      "cell_type": "markdown",
      "metadata": {
        "id": "envLPQf_H_Qg"
      },
      "source": [
        "# ★2.연도별 게임의 트렌드가 있을까"
      ]
    },
    {
      "cell_type": "markdown",
      "metadata": {
        "id": "aC7K3nfR8Rfy"
      },
      "source": [
        "## 1) 트렌드 분석에 필요한 재료"
      ]
    },
    {
      "cell_type": "code",
      "metadata": {
        "id": "m_AM5JxSE3jW"
      },
      "source": [
        "## 1) 필요한 것만 가져오기\n",
        "\n",
        "df_year = df.iloc[:,[1,2,3,5,6,7,8]]\n",
        "df_year.tail()"
      ],
      "execution_count": null,
      "outputs": []
    },
    {
      "cell_type": "code",
      "metadata": {
        "id": "D4_1YAw4rVGF"
      },
      "source": [
        "df_year['Year'].unique() #2017년부터 자료가 부족하고, 2018, 2019년도는 결측."
      ],
      "execution_count": null,
      "outputs": []
    },
    {
      "cell_type": "code",
      "metadata": {
        "id": "2r_FBU4jKqqF"
      },
      "source": [
        "## 2) Year컬럼으로 재배열\n",
        "\n",
        "df_s = df_year.sort_values('Year', ascending=True)\n",
        "df_s"
      ],
      "execution_count": null,
      "outputs": []
    },
    {
      "cell_type": "code",
      "metadata": {
        "id": "gFPH33ckHum6"
      },
      "source": [
        "## 3) Year컬럼 인덱스로 set해서 맨 앞으로 보낸 후, 오름차순으로 정렬하고 인덱스 reset해주기.\n",
        "\n",
        "df_y=df_s.set_index(\"Year\")     #특정 컬럼을 인덱스로 지정\n",
        "df_y.sort_index(inplace=True)   #인덱스 오름차순으로 정렬.\n",
        "df_y.reset_index(inplace=True)  # 인덱스 리셋\n",
        "\n",
        "df_y['총출고량'] = df_y['NA_Sales']+df_y['EU_Sales']+df_y['JP_Sales']+df_y['Other_Sales']"
      ],
      "execution_count": null,
      "outputs": []
    },
    {
      "cell_type": "code",
      "metadata": {
        "id": "nEDXpIoIKM8j"
      },
      "source": [
        "df_y"
      ],
      "execution_count": null,
      "outputs": []
    },
    {
      "cell_type": "code",
      "metadata": {
        "id": "yZc5asUWoifx"
      },
      "source": [
        "df_y_sum = df_y.iloc[:,[0,1,2,7]]\n",
        "df_y_sum"
      ],
      "execution_count": null,
      "outputs": []
    },
    {
      "cell_type": "markdown",
      "metadata": {
        "id": "EsIdqnZr8WQl"
      },
      "source": [
        "## ★2) 연도별 플랫폼 트렌드"
      ]
    },
    {
      "cell_type": "code",
      "metadata": {
        "id": "xp42H5aHrsbT"
      },
      "source": [
        "## 4) 연도별 플랫폼 트렌드\n",
        "\n",
        "import seaborn as sns\n",
        "sns.set_style(\"whitegrid\")\n",
        "sns.scatterplot(x=df_y['Year'], \n",
        "                y=df_y['Platform'], \n",
        "                hue = 'Platform',\n",
        "                s=100,\n",
        "                data=df_y_sum);"
      ],
      "execution_count": null,
      "outputs": []
    },
    {
      "cell_type": "code",
      "metadata": {
        "id": "vojfzxI1Sl8e"
      },
      "source": [
        "# 년도별로 각 플랫폼의 출고량은 어떻게 되는가. 출고량 상위 10개 플랫폼의 연도별 트렌드 알아보기.\n",
        "\n",
        "df_sump = df_y_sum.pivot_table(values = ['총출고량'],\n",
        "                     index = ['Year'],\n",
        "                     columns = ['Platform'],\n",
        "                     aggfunc='sum',\n",
        "                     fill_value=0)\n",
        "df_sump.head()"
      ],
      "execution_count": null,
      "outputs": []
    },
    {
      "cell_type": "code",
      "metadata": {
        "id": "8ypRz3JiTMKB"
      },
      "source": [
        "df_sump1 = df_sump.T.reset_index()\n",
        "df_sump1.head()"
      ],
      "execution_count": null,
      "outputs": []
    },
    {
      "cell_type": "code",
      "metadata": {
        "id": "vWTvn5WzTVuP"
      },
      "source": [
        "pd.array(df_sump1['Platform'])"
      ],
      "execution_count": null,
      "outputs": []
    },
    {
      "cell_type": "code",
      "metadata": {
        "id": "QuwGtUy4TnSY"
      },
      "source": [
        "df_sump2 = df_sump1.iloc[:,2:].T\n",
        "df_sump2.head()"
      ],
      "execution_count": null,
      "outputs": []
    },
    {
      "cell_type": "code",
      "metadata": {
        "id": "4M1g6ZewTvN8"
      },
      "source": [
        "df_sump2.columns = ['2600',  '3DO',  '3DS',   'DC',   'DS',   'GB',  'GBA',   'GC',  'GEN',\n",
        "   'GG',  'N64',  'NES',   'NG',   'PC', 'PCFX',   'PS',  'PS2',  'PS3',\n",
        "  'PS4',  'PSP',  'PSV',  'SAT',  'SCD', 'SNES', 'TG16',   'WS',  'Wii',\n",
        " 'WiiU', 'X360',   'XB', 'XOne']\n",
        "df_sump2.head()"
      ],
      "execution_count": null,
      "outputs": []
    },
    {
      "cell_type": "code",
      "metadata": {
        "id": "2-xROTtJUAVS"
      },
      "source": [
        "df_sump2.loc['sum']=df_sump2.sum()\n",
        "df_sump3 = df_sump2.T\n",
        "df_sump3.head()"
      ],
      "execution_count": null,
      "outputs": []
    },
    {
      "cell_type": "code",
      "metadata": {
        "id": "IVRk_u62UW0T"
      },
      "source": [
        "df_sump3.sort_values('sum',ascending=False,inplace=True)\n",
        "df_sump3.drop(['sum'], axis=1, inplace=True)\n",
        "df_sump4=df_sump3.T\n",
        "df_sump4.head()"
      ],
      "execution_count": null,
      "outputs": []
    },
    {
      "cell_type": "markdown",
      "metadata": {
        "id": "pBAQNwn4Xu9R"
      },
      "source": [
        "### 2)-1. 시각화"
      ]
    },
    {
      "cell_type": "code",
      "metadata": {
        "id": "kyXaipKZUsbd"
      },
      "source": [
        "import seaborn as sns\n",
        "\n",
        "plt.figure(figsize = (20,10))  #그래프 그리기 전에 크기변경\n",
        "# sns.set() # 선 색상 팔레트지정(다른걸로 바꾸고싶은데, 일단pass)\n",
        "sns.set_style('whitegrid')  #배경색상\n",
        "ax = sns.lineplot(markers=True,  data=df_sump4, palette= 'husl')\n",
        "\n",
        "plt.legend(fontsize=12, loc='best')\n",
        "plt.show()"
      ],
      "execution_count": null,
      "outputs": []
    },
    {
      "cell_type": "markdown",
      "metadata": {
        "id": "MhyERd4hat2D"
      },
      "source": [
        "- 2001~2005 년 까지의 PS2의 흥행\n",
        "- 2005년부터 Wii\n",
        "- 2006~2014년까지  X360\n",
        "- 이러한 출시과 보급, 단종에 따른 흥행의 트렌드를 보여주고 있다. 특정 년도에 어떤 플랫폼이 있었고, 어떤 플랫폼이 가장 우세했는지 알수 있다. "
      ]
    },
    {
      "cell_type": "markdown",
      "metadata": {
        "id": "TTP2Tu5JSOaT"
      },
      "source": [
        "### 2)-2. 2010년 이후 플랫폼 트렌드\n",
        "- 2010년 이후로 스마트폰이 보급되면서, 게임시장에 큰 변화가 생기므로, 2010년 이후의 플랫폼을 뽑아내서 얼마나 소비되었는지 알아보자. "
      ]
    },
    {
      "cell_type": "code",
      "metadata": {
        "id": "WcABw8yFFmUQ"
      },
      "source": [
        " df_yy= df_y_sum[df_y_sum['Year']>=2010]\n",
        " df_yy.reset_index(inplace=True,drop=True)\n",
        " df_yy"
      ],
      "execution_count": null,
      "outputs": []
    },
    {
      "cell_type": "code",
      "metadata": {
        "id": "GevXxs18GWHX"
      },
      "source": [
        "df_yyy = df_yy.pivot_table(values = ['총출고량'],\n",
        "                     index = ['Year'],\n",
        "                     columns = ['Platform'],\n",
        "                     aggfunc='sum',\n",
        "                     fill_value=0)\n",
        "df_yyy"
      ],
      "execution_count": null,
      "outputs": []
    },
    {
      "cell_type": "code",
      "metadata": {
        "id": "TQwvYqnqNE0w"
      },
      "source": [
        "df_yy3 = df_yyy.T.reset_index()\n",
        "df_yy3"
      ],
      "execution_count": null,
      "outputs": []
    },
    {
      "cell_type": "code",
      "metadata": {
        "id": "OFHXv-2rOC5R"
      },
      "source": [
        "pd.array(df_yy3['Platform'])"
      ],
      "execution_count": null,
      "outputs": []
    },
    {
      "cell_type": "code",
      "metadata": {
        "id": "fXCOK3TuOIv1"
      },
      "source": [
        "df_yy4 = df_yy3.iloc[:,2:].T\n",
        "df_yy4"
      ],
      "execution_count": null,
      "outputs": []
    },
    {
      "cell_type": "code",
      "metadata": {
        "id": "rkAZqsnhOQwc"
      },
      "source": [
        "df_yy4.columns = [ '3DS',   'DS',   'PC',  'PS2',  'PS3',  'PS4',  'PSP',  'PSV',  'Wii',\n",
        " 'WiiU', 'X360', 'XOne']\n",
        "df_yy4"
      ],
      "execution_count": null,
      "outputs": []
    },
    {
      "cell_type": "code",
      "metadata": {
        "id": "9LG7WX_COjd4"
      },
      "source": [
        "df_yy4.loc['sum']=df_yy4.sum()\n",
        "df_y5 = df_yy4.T\n",
        "df_y5"
      ],
      "execution_count": null,
      "outputs": []
    },
    {
      "cell_type": "code",
      "metadata": {
        "id": "avdsCwMAOxJS"
      },
      "source": [
        "df_y5.sort_values('sum',ascending=False,inplace=True)\n",
        "df_y5.drop(['sum'], axis=1, inplace=True)\n",
        "df_y6=df_y5.T\n",
        "df_y6"
      ],
      "execution_count": null,
      "outputs": []
    },
    {
      "cell_type": "markdown",
      "metadata": {
        "id": "iVR0-Ne5YDpt"
      },
      "source": [
        "#### ★2)-2-1 시각화"
      ]
    },
    {
      "cell_type": "code",
      "metadata": {
        "id": "vZZ49jitMeXa"
      },
      "source": [
        "import seaborn as sns\n",
        "\n",
        "plt.figure(figsize = (20,10))  #그래프 그리기 전에 크기변경\n",
        "# sns.set() # 선 색상 팔레트지정(다른걸로 바꾸고싶은데, 일단pass)\n",
        "sns.set_style('whitegrid')  #배경색상\n",
        "ax = sns.lineplot(markers=True, dashes=False, data=df_y6, palette= 'husl')\n",
        "\n",
        "plt.legend(fontsize=12, loc='best')\n",
        "plt.show()"
      ],
      "execution_count": null,
      "outputs": []
    },
    {
      "cell_type": "markdown",
      "metadata": {
        "id": "d_MR2Fn4b3Aa"
      },
      "source": [
        "- 2010년 이후로는 ps3이 가장 높은 출고량을 보이고 있다.\n",
        "- 가장 최근에 인기있었던 플랫폼은 후속작인 ps4이다. ps4다음으로는 pc\n",
        "- PC-모바일-콘솔 경계가 흐려지면서 다양한 기기에서 게임을 즐길 수 있는 크로스 플레이가 부상하고 있음.\n",
        "- 따라서 플렛폼은 플스4 또는 pc 둘 중의 하나로 하는게 합리적이다. "
      ]
    },
    {
      "cell_type": "markdown",
      "metadata": {
        "id": "3njPXdLI8cNe"
      },
      "source": [
        "## 3) 연도별 장르 트렌드"
      ]
    },
    {
      "cell_type": "code",
      "metadata": {
        "id": "RLDK1eV4nE55"
      },
      "source": [
        "## 6) 년도별로 나타나는 장르별 출고량은?\n",
        "# 크로스탭, 피봇 https://coding-grandpa.tistory.com/m/entry/PythonPandas-Pivot-Table%EA%B3%BC-CrossTab-%EC%82%AC%EC%9A%A9%ED%95%98%EA%B8%B0"
      ],
      "execution_count": null,
      "outputs": []
    },
    {
      "cell_type": "code",
      "metadata": {
        "id": "_Ys1CdGhbWt7"
      },
      "source": [
        "df_y_sum1=df_y_sum.dropna()  #결측치 제거\n",
        "df_y_sum1"
      ],
      "execution_count": null,
      "outputs": []
    },
    {
      "cell_type": "code",
      "metadata": {
        "id": "L76yw2KY9mQM"
      },
      "source": [
        "## 7) 피봇테이블로 만들기.\n",
        "\n",
        "df_Genre = df_y_sum1.pivot_table(values = ['총출고량'],\n",
        "                     index = ['Year'],\n",
        "                     columns = ['Genre'],\n",
        "                     aggfunc='sum',\n",
        "                     fill_value=0)\n",
        "df_Genre.tail()\n"
      ],
      "execution_count": null,
      "outputs": []
    },
    {
      "cell_type": "code",
      "metadata": {
        "id": "Y0Qo8lB5i4gN"
      },
      "source": [
        "## 8) 컬럼 새로지정(Genre:Action형식--> Action)\n",
        "df_Genre.columns = ['Action',\t'Adventure',\t'Fighting',\t'Misc',\t'Platform',\t'Puzzle',\t'Racing',\t'Role-Playing',\t'Shooter',\t'Simulation',\t'Sports',\t'Strategy']\n",
        "df_Genre.head()"
      ],
      "execution_count": null,
      "outputs": []
    },
    {
      "cell_type": "code",
      "metadata": {
        "id": "4PH4IUs3uz2v"
      },
      "source": [
        "## 가장 많이 소비된 장르는? 순서대로 정렬\n",
        "df_Genre.loc['합계']= df_Genre.sum()\n",
        "# df_Genre.T\n",
        "df_Genre1 = df_Genre.T\n",
        "df_Genre1.sort_values('합계', ascending=False,inplace=True)\n",
        "df_Genre1.drop(['합계'], axis=1, inplace=True)\n",
        "df_Genre=df_Genre1.T\n",
        "df_Genre.tail()"
      ],
      "execution_count": null,
      "outputs": []
    },
    {
      "cell_type": "markdown",
      "metadata": {
        "id": "YoJAvUJjYjkz"
      },
      "source": [
        "### ★3)-1. 시각화"
      ]
    },
    {
      "cell_type": "code",
      "metadata": {
        "id": "weGFUhmAiekR"
      },
      "source": [
        "## 9) 년도별로 어떤 장르가 출고량이 많았는지 시각화\n",
        "\n",
        "import seaborn as sns\n",
        "# sns.set_palette('bright') # 선 색상 팔레트지정(다른걸로 바꾸고싶은데, 일단pass)\n",
        "plt.figure(figsize = (20,10))  #그래프 그리기 전에 크기변경\n",
        "\n",
        "sns.set_style('whitegrid')  #배경색상\n",
        "ax = sns.lineplot(markers=True, data=df_Genre, palette= 'husl')\n",
        "\n",
        "plt.legend(fontsize=12, loc='best')\n",
        "plt.show()\n"
      ],
      "execution_count": null,
      "outputs": []
    },
    {
      "cell_type": "markdown",
      "metadata": {
        "id": "hG0KQ73YL0YL"
      },
      "source": [
        "- 액션장르는 꾸준히 사랑받아 온 가장 인기많은 장르.\n",
        "- 스포츠 장르는 2005년에서 2010년 사이 크게 급부상한 장르이나 이후로는 무난한 성적\n",
        "- 2006년이후 꾸준히 인기있었던 슈터 장르\n",
        "- 롤플레잉은 꾸준히 인기있는 스테디였음\n",
        "\n",
        "\n",
        "- 다만 뒤에서 '특정 플랫폼에서 어떤 장르를 선택할 때 매출이 좋았는가'를 분석했을 때, 가장 인기가 많은 장르인 액션, 스포츠, 슈터장르의 인기는 PS4의 플랫폼과 연관성이 컸다. "
      ]
    },
    {
      "cell_type": "markdown",
      "metadata": {
        "id": "s6oUyuDmiv_z"
      },
      "source": [
        "## ** 플랫폼와 장르의 연관성 **\n",
        "\n",
        "- 특정 Platform이 어떤 Genre형태일 때 매출이 잘 나오는가."
      ]
    },
    {
      "cell_type": "code",
      "metadata": {
        "id": "ydItRIrRhAMj"
      },
      "source": [
        "df_y_sum1"
      ],
      "execution_count": null,
      "outputs": []
    },
    {
      "cell_type": "code",
      "metadata": {
        "id": "3UswRAyft64X"
      },
      "source": [
        "df_sum1_count = pd.DataFrame(df_y_sum1['Genre'].value_counts()) \n",
        "df_sum1_count\n",
        "\n",
        "#인기많은 장르이므로 제작이 많이 이루어진 것."
      ],
      "execution_count": null,
      "outputs": []
    },
    {
      "cell_type": "code",
      "metadata": {
        "id": "pDr_TMYYz-sr"
      },
      "source": [
        "\n",
        "df_y_sum2=df_y_sum1.pivot_table(values = ['총출고량'],\n",
        "                     index = ['Platform'],\n",
        "                     columns = ['Genre'],\n",
        "                     aggfunc='sum',\n",
        "                     fill_value=0)\n",
        "df_y_sum2.head()\n"
      ],
      "execution_count": null,
      "outputs": []
    },
    {
      "cell_type": "code",
      "metadata": {
        "id": "4biRO5O_j_uw"
      },
      "source": [
        "df_y_sum3=df_y_sum2.T\n",
        "df_y_sum3.head()"
      ],
      "execution_count": null,
      "outputs": []
    },
    {
      "cell_type": "code",
      "metadata": {
        "id": "KM56sHBAkvxN"
      },
      "source": [
        "df_y_sum4 = df_y_sum3.reset_index()\n",
        "df_y_sum4.head()"
      ],
      "execution_count": null,
      "outputs": []
    },
    {
      "cell_type": "code",
      "metadata": {
        "id": "JGw6Nzr_ga3w"
      },
      "source": [
        "np.array(df_y_sum4['Genre'])"
      ],
      "execution_count": null,
      "outputs": []
    },
    {
      "cell_type": "code",
      "metadata": {
        "id": "3PcVnNmzlcmw"
      },
      "source": [
        "df_y_sum4.columns"
      ],
      "execution_count": null,
      "outputs": []
    },
    {
      "cell_type": "code",
      "metadata": {
        "id": "ZZ1gN6auliPH"
      },
      "source": [
        "# 재료준비완료\n",
        "df_y_sum2.columns = ['Action', 'Adventure', 'Fighting', 'Misc', 'Platform', 'Puzzle',\n",
        "       'Racing', 'Role-Playing', 'Shooter', 'Simulation', 'Sports',\n",
        "       'Strategy']\n",
        "\n",
        "df_y_sum2.head()"
      ],
      "execution_count": null,
      "outputs": []
    },
    {
      "cell_type": "markdown",
      "metadata": {
        "id": "AFo__AR_wG0e"
      },
      "source": [
        "### ★시각화"
      ]
    },
    {
      "cell_type": "code",
      "metadata": {
        "id": "JjyYv14RssaR"
      },
      "source": [
        "import seaborn as sns\n",
        "\n",
        "plt.figure(figsize = (20,10))  #그래프 그리기 전에 크기변경\n",
        "# sns.set() # 선 색상 팔레트지정(다른걸로 바꾸고싶은데, 일단pass)\n",
        "sns.set_style('whitegrid')  #배경색상\n",
        "ax = sns.lineplot(markers=True, dashes=False, data=df_y_sum2, palette= 'husl')\n",
        "\n",
        "plt.legend(fontsize=12, loc='best')\n",
        "plt.show()\n",
        "\n",
        "# 여기서 대략적으로, 특정 플랫폼이 어떤 장르에서 가장 효력발생을 했는지 알 수 있다. "
      ],
      "execution_count": null,
      "outputs": []
    },
    {
      "cell_type": "markdown",
      "metadata": {
        "id": "j29bxRfHwoG_"
      },
      "source": [
        "- 소니의 플레이스테이션, 닌텐도의 wii, 마이크로소프트의 엑스박스가 그동안의 게임시장에서 가장 큰 위치를 차지하고 있었음을 알 수 있다. \n",
        "\n",
        "- 2015년 이후 게임트렌드의 변화로 플랫폼은 pc 또는 플스4가 가장 유력하므로, \n",
        "- 해당 플랫폼에서 가장 인기있을 장르가 뭔지 알아보자. \n"
      ]
    },
    {
      "cell_type": "code",
      "metadata": {
        "id": "DFVhlRirw1Dt"
      },
      "source": [
        "df_y_sum3 = df_y_sum2.loc[['PC','PS4'],:]\n",
        "df_y_sum4 = df_y_sum3.T\n",
        "df_y_sum4"
      ],
      "execution_count": null,
      "outputs": []
    },
    {
      "cell_type": "markdown",
      "metadata": {
        "id": "JiGLC1uXeFue"
      },
      "source": [
        "### ★pc&플스4"
      ]
    },
    {
      "cell_type": "code",
      "metadata": {
        "id": "hxv5lxmkxgwj"
      },
      "source": [
        "import seaborn as sns\n",
        "\n",
        "plt.figure(figsize = (20,10))  #그래프 그리기 전에 크기변경\n",
        "# sns.set() # 선 색상 팔레트지정(다른걸로 바꾸고싶은데, 일단pass)\n",
        "sns.set_style('whitegrid')  #배경색상\n",
        "ax = sns.lineplot(markers=True, dashes=False, data=df_y_sum4, palette= 'husl')\n",
        "\n",
        "plt.legend(fontsize=12, loc='best')\n",
        "plt.show()\n",
        "\n"
      ],
      "execution_count": null,
      "outputs": []
    },
    {
      "cell_type": "markdown",
      "metadata": {
        "id": "T8yrDEFh2ByG"
      },
      "source": [
        "- pc에서는 시뮬레이션 > 롤플레잉 > 전략 > 슈터 순.\n",
        "- 플스4에서는 액션 > 슈터 > 스포츠"
      ]
    },
    {
      "cell_type": "markdown",
      "metadata": {
        "id": "wA7EEcrhZvht"
      },
      "source": [
        "### ★가설검정"
      ]
    },
    {
      "cell_type": "code",
      "metadata": {
        "id": "KKgUX6siaZIM"
      },
      "source": [
        "from scipy.stats import chi2_contingency  #1샘플 카이스퀘어랑 불러오는 import 가 다름\n",
        "\n",
        "print(chi2_contingency(df_y_sum2, correction = False)) #correction = 샘플로부터 통계치를 계산하냐 모집단으로부터 통계치를 계산하냐\n",
        "\n",
        "print(chi2_contingency(df_y_sum2, correction = True)) \n",
        "\n",
        "# 두 변수간에 큰 연관이 있음을 알 수 있다. "
      ],
      "execution_count": null,
      "outputs": []
    },
    {
      "cell_type": "markdown",
      "metadata": {
        "id": "GdYrWOhs8guA"
      },
      "source": [
        "## 4) 가설검정\n",
        "\n",
        "- 귀무가설 : 연도별 게임의 트렌드가 없다.(즉, 연도별로 플랫폼과의 연관성이 없다.)\n",
        "- 대립가설 : 연도별 게임의 트렌드가 있다. ( 즉, 연도별로 플랫폼과의 연관성이 있다. )"
      ]
    },
    {
      "cell_type": "code",
      "metadata": {
        "id": "Vk14wZyxNagh"
      },
      "source": [
        "# 귀무가설 : 연도별 게임의 트렌드가 없다.(즉, 연도별로 플랫폼이나 장르의 연관성이 없다. )\n",
        "# 대립가설 : 연도별 게임의 트렌드가 있다. ( 즉, 연도별로 플랫폼이나 장르의 연관성이 있다. )\n",
        "# 그럼 어떤 연관성이 있느냐?\n",
        "\n",
        "# 년도별로 어떤 플랫폼이 많이 쓰였냐? 년도별로 어떤 장르가 많았나. 카이제곱테스트. 스피어맨 상관계수 검정. 산점도 (++어떤 플랫폼에 어떤 장르를 붙여야 마진이 높을까?)\n",
        "# 어떤 특정 장르에 특정 플랫폼을 쓴 비율\n"
      ],
      "execution_count": null,
      "outputs": []
    },
    {
      "cell_type": "code",
      "metadata": {
        "id": "QOioqTJ8UBIk"
      },
      "source": [
        "# import scipy.stats as stats # 범주형 자료이므로 스피어맨 상관계수 검정\n",
        "\n",
        "# stats.spearmanr(df_Y['Year'], df_Y['Platform']).correlation"
      ],
      "execution_count": null,
      "outputs": []
    },
    {
      "cell_type": "markdown",
      "metadata": {
        "id": "Bw_lIlaY8KTF"
      },
      "source": [
        "## 5) 결론\n",
        "\n",
        "- 연도별로 게임의 트렌트가 있을지 분석하기 위해 변수가 될 수 있는 플랫폼과 장르 데이터를 불러왔다. \n",
        "- 연도별로 오름차순이 되도록 재배열하고 그에 따른 플랫폼과 장르의 트렌드가 어떻게 변하는지 시각화하였다. \n",
        "- 연도별로 플랫폼은 pc를 제외하고 꾸준히 변화되어 왔으며, 2015년 이후에는 플스4,pc가 주력플랫폼이 된다. \n",
        "- 연도별로 인기있는 장르를 보면, 플랫폼의 인기도와 유사하게 액션, 스포츠, 슈터장르가 주력인 것을 알 수 있는데, 이는 플스4의 출고량과 관련된다.\n",
        "\n",
        "- 따라서, 북미지역에 타게팅을 할 경우 플랫폼으로 플스4를, 일본지역을 타겟팅할 경우는 플랫폼으로 pc를 선택하는 것이 좋다. "
      ]
    },
    {
      "cell_type": "markdown",
      "metadata": {
        "id": "XREFg-i_IIQW"
      },
      "source": [
        "# 3.출고량이 높은 게임에 대한 분석 및 시각화 프로세스"
      ]
    },
    {
      "cell_type": "markdown",
      "metadata": {
        "id": "mX-6X44VIV9J"
      },
      "source": [
        "## 1) 출고량 높은 게임의 기준을 어디에 둘것이냐."
      ]
    },
    {
      "cell_type": "code",
      "metadata": {
        "id": "DfASdPF4Z7P8"
      },
      "source": [
        "# 출고량 높은 게임 순위별 나열하기 : 전 지역의 출고량 합계\n",
        "\n",
        "df10 = df\n",
        "df10['총출고량'] = df10['NA_Sales']+df10['EU_Sales']+df10['JP_Sales']+df10['Other_Sales']\n",
        "df10.head()"
      ],
      "execution_count": null,
      "outputs": []
    },
    {
      "cell_type": "code",
      "metadata": {
        "id": "kxvXzud3gs04"
      },
      "source": [
        "df_best = df10.sort_values('총출고량', ascending=False)\n",
        "df_best.reset_index(drop=True, inplace=True)\n",
        "df_best1=df_best.iloc[:,[1,2,3,4,9]]\n",
        "df_best1\n"
      ],
      "execution_count": null,
      "outputs": []
    },
    {
      "cell_type": "code",
      "metadata": {
        "id": "4wY8uVxb8Qgn"
      },
      "source": [
        "df_best1['총출고량'].describe(percentiles=[.03, .25, .75, .97, .99, .999])\n",
        "\n",
        "#  16327개의 데이터 중에서, 가장 높은 출고량은 82.74million이고, 분위 97% 이상인, 즉 출고량이 1% 이내가 되려면 약 2.9 million을 넘어야 한다.\n",
        "# 출고량이 높은 게임을 총 데이터 중에서 출고량이 상위 3%에 해당하는 것에 기준을 두겠다. "
      ],
      "execution_count": null,
      "outputs": []
    },
    {
      "cell_type": "markdown",
      "metadata": {
        "id": "k3NI_XTuLmSo"
      },
      "source": [
        "### - 상위 3%"
      ]
    },
    {
      "cell_type": "code",
      "metadata": {
        "id": "L6PKaj4O_zHx"
      },
      "source": [
        "df_best2= df_best1[df_best1['총출고량']>=2.9]\n",
        "df_best2\n",
        "\n",
        "# 총 493개의 데이터로 분석"
      ],
      "execution_count": null,
      "outputs": []
    },
    {
      "cell_type": "markdown",
      "metadata": {
        "id": "1NXPhULuBxMs"
      },
      "source": [
        "#### 상위 3%에 해당하는 제작사는 어떤 플랫폼을 썼느냐."
      ]
    },
    {
      "cell_type": "code",
      "metadata": {
        "id": "emdADBoZ9Wqz"
      },
      "source": [
        "df_best1_loc = df_best2.iloc[:,[0,3]]\n",
        "df_best1_loc\n",
        "df_best1_loc.drop_duplicates(inplace=True)\n",
        "df_best1_loc.reset_index(inplace=True, drop=True)"
      ],
      "execution_count": null,
      "outputs": []
    },
    {
      "cell_type": "code",
      "metadata": {
        "id": "CVq-srKa-lPJ"
      },
      "source": [
        "df_best1_loc\n",
        "\n",
        "# 상위 3%에 총 121개의 플랫폼이 있음. "
      ],
      "execution_count": null,
      "outputs": []
    },
    {
      "cell_type": "code",
      "metadata": {
        "id": "f-EbieRiAQ-O"
      },
      "source": [
        "# 상위 3%에 해당하는 제작사 종류\n",
        "df_best1_loc['Publisher'].unique()"
      ],
      "execution_count": null,
      "outputs": []
    },
    {
      "cell_type": "code",
      "metadata": {
        "id": "YNjl5aorGotI"
      },
      "source": [
        ""
      ],
      "execution_count": null,
      "outputs": []
    },
    {
      "cell_type": "code",
      "metadata": {
        "id": "hBXZP3FTAav6"
      },
      "source": [
        "df_nintendo = df_best1_loc[df_best1_loc['Publisher']=='Nintendo']\n",
        "np.array(df_nintendo['Platform'])\n",
        "\n",
        "# 닌텐도 제작사의 플렛폼 : 'Wii', 'NES', 'GB', 'DS', 'SNES', 'GBA', '3DS', 'N64', 'GC', 'WiiU'"
      ],
      "execution_count": null,
      "outputs": []
    },
    {
      "cell_type": "code",
      "metadata": {
        "id": "AdhjOPc8BLp-"
      },
      "source": [
        "df_M = df_best1_loc[df_best1_loc['Publisher']=='Microsoft Game Studios']\n",
        "np.array(df_M['Platform'])\n",
        "\n",
        "# 마이크로소프트사의 플렛폼 :  'X360', 'XB', 'PC', 'XOne'"
      ],
      "execution_count": null,
      "outputs": []
    },
    {
      "cell_type": "code",
      "metadata": {
        "id": "l76RyRtNBfi8"
      },
      "source": [
        "df_S = df_best1_loc[df_best1_loc['Publisher']=='Sony Computer Entertainment']\n",
        "np.array(df_S['Platform'])\n",
        "\n",
        "# 소니사의 플랫폼 : 'PS2', 'PS', 'PS3', 'PS4', 'PSP'"
      ],
      "execution_count": null,
      "outputs": []
    },
    {
      "cell_type": "code",
      "metadata": {
        "id": "seQCV4tfCBB7"
      },
      "source": [
        "df_Take = df_best1_loc[df_best1_loc['Publisher']=='Take-Two Interactive']\n",
        "np.array(df_Take['Platform'])\n",
        "\n",
        "# 테이크 투 인터렉티브 플랫폼 : 'PS3', 'PS2', 'X360', 'PS4', 'PSP', 'XOne', 'Wii', 'PS'"
      ],
      "execution_count": null,
      "outputs": []
    },
    {
      "cell_type": "code",
      "metadata": {
        "id": "3diYIFX0C8Bs"
      },
      "source": [
        "df_Act = df_best1_loc[df_best1_loc['Publisher']=='Activision']\n",
        "np.array(df_Act['Platform'])\n",
        "\n",
        "# 액티비전사의 플랫폼 :['X360', 'PS4', 'PS3', 'XOne', 'PC', 'PS', 'PS2', 'Wii', '2600', 'DS']"
      ],
      "execution_count": null,
      "outputs": []
    },
    {
      "cell_type": "code",
      "metadata": {
        "id": "a3urAIKpDI45"
      },
      "source": [
        "df_Ele = df_best1_loc[df_best1_loc['Publisher']=='Electronic Arts']\n",
        "np.array(df_Ele['Platform'])\n",
        "\n",
        "# 일렉사의 플랫폼 : ['PS4', 'PS3', 'PC', 'X360', 'PS2', 'Wii', 'PS', 'DS', 'XOne']"
      ],
      "execution_count": null,
      "outputs": []
    },
    {
      "cell_type": "markdown",
      "metadata": {
        "id": "efh_Kz2SIwot"
      },
      "source": [
        "## 2) 출고량이 높은 것 중에 어떤 제작사가 많았나."
      ]
    },
    {
      "cell_type": "code",
      "metadata": {
        "id": "tYi-j3q5HKU9"
      },
      "source": [
        "wide_best = df_best2.pivot_table(index = 'Publisher', values = '총출고량', aggfunc = 'sum')\n",
        "wide_best1 = wide_best.sort_values('총출고량', ascending=False)\n",
        "wide_best1"
      ],
      "execution_count": null,
      "outputs": []
    },
    {
      "cell_type": "code",
      "metadata": {
        "id": "LkwVMV2fHh1-"
      },
      "source": [
        "wide_best1.reset_index(inplace=True)\n",
        "wide_best1.head()"
      ],
      "execution_count": null,
      "outputs": []
    },
    {
      "cell_type": "code",
      "metadata": {
        "id": "veYuLnQHAQSW"
      },
      "source": [
        "import matplotlib.pyplot as plt\n",
        "plt.rcParams[\"figure.figsize\"] = (14,10)  #그래프 전체크기 조절\n",
        "publisher = wide_best1['Publisher']\n",
        "output = wide_best1['총출고량']\n",
        "\n",
        "\n",
        "colors=['gold','#ff9999', '#ffc000', '#8fd9b6', '#d395d0','whitesmoke','whitesmoke','whitesmoke','whitesmoke','whitesmoke','whitesmoke','whitesmoke']\n",
        "plt.pie(output, labels=publisher, autopct='%.1f%%', colors=colors)\n",
        "\n",
        "plt.show()\n",
        "\n",
        "# 출고량 상위 3% 이상의 게임을 제작하는 회사는 대부분 1위 닌텐도. 다음으로 2위 액티비전, 3.일렉트로닉아트, 4.소니엔터테이먼트, 5.테이크2인터렉티브, 6.마이크로소프트 스튜디오 순."
      ],
      "execution_count": null,
      "outputs": []
    },
    {
      "cell_type": "markdown",
      "metadata": {
        "id": "fGiGwKi8Lt-k"
      },
      "source": [
        "### 상위 1%"
      ]
    },
    {
      "cell_type": "code",
      "metadata": {
        "id": "IFO-mZpYJSL1"
      },
      "source": [
        "df_best3= df_best1[df_best1['총출고량']>=5.47]\n",
        "df_best3\n",
        "\n",
        "# 상위 1% 출고량은 165개 데이터"
      ],
      "execution_count": null,
      "outputs": []
    },
    {
      "cell_type": "code",
      "metadata": {
        "id": "ECtM0VJJKA_g"
      },
      "source": [
        "wide_best2 = df_best3.pivot_table(index = 'Publisher', values = '총출고량', aggfunc = 'sum')\n",
        "wide_best22 = wide_best2.sort_values('총출고량', ascending=False)\n",
        "wide_best22.head()"
      ],
      "execution_count": null,
      "outputs": []
    },
    {
      "cell_type": "code",
      "metadata": {
        "id": "WbASSTnUKch9"
      },
      "source": [
        "wide_best22.reset_index(inplace=True)\n",
        "wide_best22.head()"
      ],
      "execution_count": null,
      "outputs": []
    },
    {
      "cell_type": "code",
      "metadata": {
        "id": "WBfm3dEIKhny"
      },
      "source": [
        "import matplotlib.pyplot as plt\n",
        "plt.rcParams[\"figure.figsize\"] = (14,10)  #그래프 전체크기 조절\n",
        "publisher = wide_best22['Publisher']\n",
        "output = wide_best22['총출고량']\n",
        "\n",
        "\n",
        "colors=['gold','#ff9999', '#ffc000', '#8fd9b6', '#d395d0','whitesmoke','whitesmoke','whitesmoke','whitesmoke','whitesmoke','whitesmoke','whitesmoke']\n",
        "plt.pie(output, labels=publisher, autopct='%.1f%%', colors=colors)\n",
        "\n",
        "plt.show()\n",
        "\n",
        "# 출고량 상위 1% 이상의 게임을 제작하는 회사는 대부분 1위 닌텐도. 다음으로 2위 액티비전, 3.테이크2인터렉티브, 4.소니엔터테이먼트, 5.마이크로소프트스튜디오, 일렉트로닉아트 순"
      ],
      "execution_count": null,
      "outputs": []
    },
    {
      "cell_type": "markdown",
      "metadata": {
        "id": "KmrTnc2wNLJ1"
      },
      "source": [
        "### 결론 : 출고량이 높은 게임 중에서는 닌텐도가 많은 비중을 차지한다. \n",
        "\n",
        "- 그러나 우리는 현재 출시할 게임을 고려해야 하므로, 액티비전, 투테이크 인터렉티브, 소니, 마이크로소프트, 일렉트로닉 아트 정도는 분석해볼 필요가 있다. "
      ]
    },
    {
      "cell_type": "markdown",
      "metadata": {
        "id": "bW63hVl3LWah"
      },
      "source": [
        "### 4)-1.년도별로 제작사 출고량"
      ]
    },
    {
      "cell_type": "code",
      "metadata": {
        "id": "HjeYt3hDAFc6"
      },
      "source": [
        "# 이번엔 년도별로 나열해보자. 년도별로 어떤 제작사가 출고량이 많았을까?\n",
        "df_bbest = df_best2.sort_values(['Year'])\n",
        "df_bbest.set_index('Year', inplace=True)\n",
        "df_bbest\n",
        "\n",
        "# 년도 순서대로, 어떤 제작사에서 얼마나 팔았는지 알아보자. 상위 3% 데이터로 측정."
      ],
      "execution_count": null,
      "outputs": []
    },
    {
      "cell_type": "code",
      "metadata": {
        "id": "GVQ7z5_mZKwK"
      },
      "source": [
        "df_p = df_bbest.pivot_table(values = ['총출고량'],\n",
        "                     index = ['Year'],\n",
        "                     columns = ['Publisher'],\n",
        "                     aggfunc='sum',\n",
        "                     fill_value=0)\n",
        "df_p.head()"
      ],
      "execution_count": null,
      "outputs": []
    },
    {
      "cell_type": "code",
      "metadata": {
        "id": "RvlA6VJLarlQ"
      },
      "source": [
        "df_p.columns  #★이거 어떻게 할 방법 없나.."
      ],
      "execution_count": null,
      "outputs": []
    },
    {
      "cell_type": "code",
      "metadata": {
        "id": "NgAZ7bE8bzoh"
      },
      "source": [
        "# 제작사 멀티인덱스 해제하고 필요한 부분만 남기기\n",
        "\n",
        "dfff = df_p.T\n",
        "dfff.reset_index(drop=False, inplace=True)  #멀티인덱스 해제하기\n",
        "dfff.head()"
      ],
      "execution_count": null,
      "outputs": []
    },
    {
      "cell_type": "code",
      "metadata": {
        "id": "QugXgf24cgE6"
      },
      "source": [
        "np.array(dfff['Publisher'])  #컬럼이름 복사"
      ],
      "execution_count": null,
      "outputs": []
    },
    {
      "cell_type": "code",
      "metadata": {
        "id": "Bkux-Tevaj4Y"
      },
      "source": [
        "df_p.columns = ['505 Games', 'Acclaim Entertainment', 'Activision', 'Atari',\n",
        "       'Bethesda Softworks', 'Capcom', 'Disney Interactive Studios',\n",
        "       'Eidos Interactive', 'Electronic Arts', 'Enix Corporation',\n",
        "       'Fox Interactive', 'GT Interactive', 'Hasbro Interactive',\n",
        "       'Konami Digital Entertainment', 'LucasArts', 'MTV Games',\n",
        "       'Microsoft Game Studios', 'Namco Bandai Games', 'Nintendo',\n",
        "       'Palcom', 'RedOctane', 'Sega', 'Sony Computer Entertainment',\n",
        "       'Sony Computer Entertainment Europe', 'Square Enix', 'SquareSoft',\n",
        "       'THQ', 'Take-Two Interactive', 'Ubisoft', 'Universal Interactive',\n",
        "       'Virgin Interactive', 'Vivendi Games',\n",
        "       'Warner Bros. Interactive Entertainment']   #붙여넣기\n",
        "df_p.head()"
      ],
      "execution_count": null,
      "outputs": []
    },
    {
      "cell_type": "code",
      "metadata": {
        "id": "7b8ipfrfjJmn"
      },
      "source": [
        "df_p.loc['sum'] = df_p.sum()\n",
        "df_p.tail()"
      ],
      "execution_count": null,
      "outputs": []
    },
    {
      "cell_type": "code",
      "metadata": {
        "id": "JlJgZ3OplawS"
      },
      "source": [
        "# 트렌스포즈 -> 합계순 데이터 나열 -> 합계 컬럼 drop -> 다시 트렌스포즈\n",
        "df_pT = df_p.T\n",
        "df_pT.sort_values('sum', ascending=False, inplace=True)  #합계순으로 나열\n",
        "df_pT.head()"
      ],
      "execution_count": null,
      "outputs": []
    },
    {
      "cell_type": "code",
      "metadata": {
        "id": "P_giTP6AmWBk"
      },
      "source": [
        "df_pT.drop(['sum'], axis=1, inplace=True)\n",
        "df_pT=df_pT.T\n",
        "df_pT.tail()"
      ],
      "execution_count": null,
      "outputs": []
    },
    {
      "cell_type": "markdown",
      "metadata": {
        "id": "UCoLV7pTZkm8"
      },
      "source": [
        "### 4)-2. 시각화"
      ]
    },
    {
      "cell_type": "code",
      "metadata": {
        "id": "tVtApiReXzdD"
      },
      "source": [
        "import seaborn as sns\n",
        "sns.set()\n",
        " # 선 색상 팔레트지정(다른걸로 바꾸고싶은데, 일단pass)\n",
        "plt.figure(figsize = (20,10))  #그래프 그리기 전에 크기변경\n",
        "\n",
        "sns.set_style('whitegrid')  #배경색상\n",
        "ax = sns.lineplot(markers=True, dashes=False, data=df_pT, palette= 'husl') \n",
        "\n",
        "plt.legend(fontsize=12, loc='center left', bbox_to_anchor=(1, 0.5)) #범주박스 밖에 위치시키기\n",
        "plt.show()\n",
        "\n",
        "# 합계순대로 범주가 표현되어 있지만, 잘 안보이고 구별하기 어렵다."
      ],
      "execution_count": null,
      "outputs": []
    },
    {
      "cell_type": "code",
      "metadata": {
        "id": "uPk-xpWydfyl"
      },
      "source": [
        "# 제작사가 너무 많아서, 출고량 높은 제작사 상위3% 중에서, 상위 10개만를 남기고 drop\n",
        "df_pick = df_pT.T\n",
        "df_pick1 = df_pick.iloc[:10,:]\n",
        "df_pickup = df_pick1.T\n",
        "df_pickup.head()"
      ],
      "execution_count": null,
      "outputs": []
    },
    {
      "cell_type": "code",
      "metadata": {
        "id": "5I2pFS-yhRrH"
      },
      "source": [
        "import seaborn as sns\n",
        "sns.set()\n",
        " # 선 색상 팔레트지정(다른걸로 바꾸고싶은데, 일단pass)\n",
        "plt.figure(figsize = (20,10))  #그래프 그리기 전에 크기변경\n",
        "\n",
        "sns.set_style('whitegrid')  #배경색상\n",
        "ax = sns.lineplot(markers=True, dashes=False, data=df_pickup, palette= 'husl') \n",
        "\n",
        "plt.legend(fontsize=12, loc='center left', bbox_to_anchor=(1, 0.5)) #범주박스 밖에 위치시키기\n",
        "plt.show()"
      ],
      "execution_count": null,
      "outputs": []
    },
    {
      "cell_type": "markdown",
      "metadata": {
        "id": "_n4D2D7oLHL7"
      },
      "source": [
        "# ★4.결론 :  북미와 유럽에 타겟팅을 한 액션장르의 게임을 플스4 플래폼으로  제작하자."
      ]
    },
    {
      "cell_type": "markdown",
      "metadata": {
        "id": "gNvtqC5qLK9C"
      },
      "source": [
        "\n",
        "1. 일단 북미의 수출에 중점을 두어, 전 지역에서 가장 인기있을 장르는 액션, 스포츠 장르이다.\n",
        "\n",
        "2. 스마트폰이 보급되고 게임시장이 변화함에 따라, 2015년 이후 적절한 플랫폼은 pc 혹은 소니사의 ps4라고 결론내릴 수 있다. \n",
        "\n",
        "3. 다만, 그동안 플레이스테이션이 게임시장에서 압도적인 위치를 차지해 왔고, 현재도 가장 높은 점유율을 나타내고 있으므로, PS4플랫폼을 선택하는 것에 좀 더 비중을 둘 수 있다. \n",
        "\n",
        "4. 또한, pc에서는 시뮬레이션 > 롤플레잉 > 전략 > 슈터 순, 플스4에서는 액션 > 슈터 > 스포츠 순으로 출고율이 높기때문에, 북미의 선호장르에 제작을 맞춘다고 할 때 플스4플랫폼을 선택하는 게 더 합리적이다. \n",
        "\n",
        "5. 결론 : 북미와 유럽에 타겟팅을 한 액션장르의 게임을 플스4 플래폼으로  제작한다.\n"
      ]
    },
    {
      "cell_type": "markdown",
      "metadata": {
        "id": "JptlnT9v9NXE"
      },
      "source": [
        "# FEEDBACK"
      ]
    },
    {
      "cell_type": "markdown",
      "metadata": {
        "id": "-LwQBy1z9R_F"
      },
      "source": [
        "[Section 1 프로젝트 피드백]\n",
        "\n",
        "작성자 : ㅇㅈㅇ\n",
        "\n",
        "좋았던 점 : 1. 코랩에 목차를 일목요연하게 정리를 잘 해주셔서 너무 좋았습니다. 옆에 목차 띄워주시니까 흐름 따라가기가 수월했어요~\n",
        "2. 연도별 플랫폼 트렌드의 scatter plot가 직관적으로 한 눈에 들어오고, 보기 편했습니다. 이걸 이렇게 한 눈에 깔끔하게 나타낼 수 있다니..... 범례는 빼셔도 좋았을 것 같아요!\n",
        "3. 플랫폼과 장르의 연관성은 생각지 못했던 부분이라 많이 배웠습니다.\n",
        "4. 발표 흐름이 매끄럽고 듣기 편안했습니다. '이건 왜 들어가있지?'라는 생각이 드는 지점이 없었습니다.\n",
        "\n",
        "아쉬운 점 : 1. 플랫폼과 장르의 연관성에서 선보다는 막대그래프가 더 좋지 않았을까 생각합니다.\n",
        "2. 시간 문제로 넘어가셨을것같지만...ㅠㅠ 카이스퀘어 검정 결과에서 p-value를 짚어서 조금 더 보충 설명 해주셨으면 더 좋았을 것 같습니다."
      ]
    },
    {
      "cell_type": "markdown",
      "metadata": {
        "id": "A5gh2msQ9b3Z"
      },
      "source": [
        "[Section 1 프로젝트 피드백]\n",
        "\n",
        "작성자 :ㄷㅎㅈ\n",
        "\n",
        "좋았던 점 : 1. 전달력 : 차분하게 하나씩 설명해주셔서 귀에 쏙쏙 들어왔어요.\n",
        "\n",
        "2. 발표주제 : 다음 분기에 어떤 게임을 개발해야 할까라는 주제로 아주 적절한 발표였습니다.\n",
        "\n",
        "3. 발표자료 : 플랫폼X장르X출고량 과 같이 중요한 부분인데 제가 한꺼번에 비교해보지 못한 부분이 들어가 있어서 이마를 탁 쳤습니다.\n",
        "\n",
        "4. 데이터 : 꼭 필요한 분석이 여기저기 들어가서 좋았습니다. 다만 그래프가 조금 더 다양하게 쓰였으면 좋았을 것 같습니다. 점과 선으로 이루어진 그래프는 연도별로 달라지는 매출액을 한 눈에 보기 좋은 그래프 같은데, 많은 데이터가 섞여 있다 보니 가장 높은 값 (action)만 눈에 띄고 다른 부분들은 값이 어떤지 쉽게 파악할 수 없었습니다. 이런 경우는 카테고리를 조금 줄여서 바 그래프나, 파이 차트, 또는 box plot 등등 다양한 그래프로도 표현이 가능할 것 같습니다.\n",
        "\n",
        "5. 기타 : 파이썬 노트북을 썼는데도 오히려 왼쪽에 목차가 펼쳐져 있어서 전체적으로 정돈된 느낌이었어요!"
      ]
    },
    {
      "cell_type": "markdown",
      "metadata": {
        "id": "JVEDzVO89nNU"
      },
      "source": [
        "[Section 1 프로젝트 피드백]\n",
        "\n",
        "작성자 : ㄱㅈㅇ\n",
        "\n",
        "좋았던 점 : 세연님, 발표 영상 잘 보았습니다. 고민할 주제들에 대해서 다양한 가설검정으로 판단하고, 산점도 그래프를 통해서 분석하는 등의 접근이 타당하고 논리적인 전개라고 생각했습니다. 공부와 준비를 정말 많이 하셨다는 것이 느껴졌어요. 배운 것을 최대한 많이 활용하기 위해 깊은 고민을 하셨을 것 같고, 저에게는 그 부분들이 모두 다 전달되었어요. 평소에 세연님의 학구열과 태도를 통해서 긍정적인 영향도 받았고, 개인적으로 세연님 많이 응원하고 있습니다. 세연님 화이팅!! (제가 최근에 구직활동이 겹쳐서 저의 발표 영상자료는 못찾으셨을거예요. 함께 피드백 주고 받지 못해서 죄송합니다ㅜㅜ 다음번엔 꼭 함께 할게요!!!)\n",
        "\n",
        "아쉬운 점 : 없음"
      ]
    },
    {
      "cell_type": "markdown",
      "metadata": {
        "id": "Ok5Vx0j9_dY9"
      },
      "source": [
        "[Section 1 프로젝트 피드백]\n",
        "\n",
        "작성자 : ㅂㅇㅇ\n",
        "\n",
        "좋았던 점 : 전달력: 발표 속도를 차분하게 유지하려고 하신 부분이 인상깊었습니다.\n",
        "\n",
        "발표 주제: Section 프로젝트에서 요청하는 내용에 부합하는 발표 주제를 선정하고 진행해 특이 사항이 없습니다.\n",
        "\n",
        "발표 자료: 별도의 발표 자료를 준비하진 않았지만, 설명하고자 하는 파트를 체계적으로 구성해 따라가는데 무리가 되지 않았습니다.\n",
        "\n",
        "다만, 북미 지역 출고량과 타 국가의 출고량 차이가 없었다고 해도 그래프를 보여줄 때 북미에 국한하지 않고 타 지역 그래프도 같이 보여주셨다면 더 좋았을 것 같습니다.\n",
        "\n",
        "데이터: i) ANOVA 검정 결과 차이가 없다는 결론이 나왔다고 하신 것에 비해, 출고량이 높은 북미 시장에 맞춰서 전략을 짠다는 결론으로 이어진 부분이 다소 모순된 것 같습니다.\n",
        "\n",
        "ii) 연도별 플랫폼 데이터를 산점도로 표현해 시대에 따른 플랫폼 추세가 변화했다는 것과 분석과 관련된 다양한 검색을 하신 것으로 예상돼 인상깊었습니다. 다만 데이터 결과 해석에 있어서, 스마트폰 보급과 같이 데이터에 있는 사항 외에 외적인 요인에 대한 추측은 좀 더 보수적으로 접근할 필요가 있을 것 같습니다.\n",
        "\n",
        "iii) 플랫폼 별 장르 구분 혹은 장르별 플랫폼 구분에 대한 내용을 추가적으로 확인하기 위해, 중복 카운트를 바탕으로 카이제곱 검정을 실행하신 걸로 이해됩니다. 분석을 보다 상세하게 이어나간 것이 인상깊습니다.\n",
        "\n",
        "다만 열심히 검정해주신 데 비해, 검정 결과치의 나열이 아닌 어떤 검정이고 어떤 수치가 나와서 의미가 있었는지에 대한 설명이 보강되면 더 좋았을 것 같습니다.\n",
        "\n",
        "아쉬운 점 : 통합해서 작성했습니다 :)\n",
        "너무너무 고생 많으셨습니다!"
      ]
    },
    {
      "cell_type": "markdown",
      "metadata": {
        "id": "S5FCgUGD_o-t"
      },
      "source": [
        "[Section 1 프로젝트 피드백]\n",
        "\n",
        "작성자 : ㅇㅁㅎ\n",
        "\n",
        "좋았던 점 : 제시하신 첫 논점들에 대해서 세부적으로 2단계 3단계씩 새로운 분석을 하신 후에 거기서 파생되는 새로운 논점들에 대한 시각화와 가설 검증들이 들으면 들을수록 탄탄하다고 느꼈습니다.\n",
        "시간제한 때문에 영상 자체에서는 깊게 들어가지 못하셨던 것 같지만 각 그래프들에 대한 분석을 세부적으로 잘 정리해 놓으신 것만 봐도 논리적 고민을 많이 하셨다는 것을 느낄 수 있었고 그게 결론에서 단순히 결과를 제시하는 게 아닌 '어떠한 것들을 고려해서' 결정을 내려야 하는가를 제시해 주셔서 실제 상황에 적용을 해야 한다면 매우 도움이 될 것 같은 분석이었던 것 같습니다.\n",
        "\n",
        "아쉬운 점 : 목차를 너무너무 잘만들어 놓으셨는데 (저는 저런 기능이 있는지도 처음 알았네요) 처음에 목차를 활용한 영상에 대한 개요를 더해주셨다면 만약 내용을 모르는 사람들이 봐도 갑작스럽지 않고 더 잘 따라 갔을 것 같아요!\n",
        "발표 잘들었습니다! 수고하셨어요~\n",
        "lcmkcxdx96wzzv2wv2lcmk4qk8c3qn9q"
      ]
    },
    {
      "cell_type": "markdown",
      "metadata": {
        "id": "bSWT6cnW_qHt"
      },
      "source": [
        "[Section 1 프로젝트 피드백]\n",
        "\n",
        "작성자 : ㅇㅇㅅ\n",
        "좋았던 점 : 차분한 목소리로 템포를 적당하게 잡아 진행해주셔서 처음부터 끝까지 무리없이 시청했습니다. 정석과도 같은 진행력으로 일목요연하게 자료와 주제에 대해서 설명을 해주셔서 좋았습니다. 그래프도 시원하고 색상처리가 깔끔해서 이해하는데 큰 문제가 없었습니다.\n",
        "사실 저는 코랩으로 영상을 녹화하면서 ppt자료를 따로 만들어야 하나 싶을 정도로 제 분석의 순서가 엉망이었는데, 세연님의 잘 정리된 코랩 우측 목록이 저의 부족함을 채우는 데 많은 참고가 됐습니다.\n",
        "정말 수고 많으셨습니다!\n",
        "\n",
        "아쉬운 점 : '출고량이 높은 게임에 대한 분석 및 프로세스 시각화' 부분을 어떤 식으로 처리했는지 궁금했는데 시간이 부족해 의도적으로 건너 뛰신게 아닌가 해서 살짝 아쉬웠네요. 하지만 5분이 짧은 시간인 만큼 적절하게 잘 조절해주신 것 같습니다. 감사합니다!"
      ]
    },
    {
      "cell_type": "markdown",
      "metadata": {
        "id": "JZaBvfwE_vJT"
      },
      "source": [
        "[Section 1 프로젝트 피드백]\n",
        "\n",
        "작성자 : ㄱㅁㅈ\n",
        "\n",
        "좋았던 점 : 1. 2010년이후 스마트폰의 보급으로 플랫폼과 게임시장에 큰 변화가 있었다는 설명을 통해 그래프의 변화를 이해하는데 도움이 되었습니다.(이 부분은 전 그냥 넘어갔는데 세연님이 많이 생각을 해보신것 같습니다.)\n",
        "2. 전반적으로 보여주고자 하는 내용을 정확히 시각화해서 이해하기 좋았습니다. 특히 플랫폼과 장르를 연결시킨 선그래프가 인상적이었습니다. 발표 내용 각각에 맞는 자료를 활용하신 것 같습니다.\n",
        "3. 발표를 차분하게 하시고 발음도 좋으셔서 이해하는데 어려움이 없었습니다. 전달력이 정말 좋으세요!\n",
        "\n",
        "아쉬운 점 : 1. 초반 데이터 전처리부분, 아노바 그리고 카이스퀘어 검정 과정에 대한 간략한 설명이 있으면, 비데이터 직군이 들었을 때 이해하는데 도움이 될 것 같습니다.\n",
        "2. 그래프를 좀 더 크게 볼 수 있었으면 시각화하신 자료를 더 잘 볼 수 있었을 것 같습니다.\n",
        "이외에는 아쉬운점이 없습니다. 세연님 정말 정말 수고하셨습니다!!\n",
        "8tmxvk37rzxy8tmo8tbapg3tghupq4yl"
      ]
    },
    {
      "cell_type": "markdown",
      "metadata": {
        "id": "_oySH8pV_yJa"
      },
      "source": [
        "[Section 1 프로젝트 피드백]\n",
        "\n",
        "작성자 : ㄱㅈㅅ\n",
        "\n",
        "좋았던 점 : 우선, 발표자료를 잘 만드셨으며, 구성 또한 잘하셨기에 오는 장점이겠지만, 이를 설명하는데 여유로움이 묻어났고, 적당한 속도로 설명을 해주셨기에 중간중간 흐름을 잘 잡고 들을 수 있는 발표였다고 생각합니다. 그리고, 이 발표자료에 저희가 그동안 배운 내용을 최대한 많이 활용했다는 것이 느껴질 만큼 너무 인상적이었다고 생각합니다. 다른 영상에서도 그랬지만, 제가 이번 프로젝트를 다가가는데 얼마나 부족했음을 알 수 있었고, 다음 프로젝트를 진행하게 되면, 참고 영상으로 쓸 수 있겠다 싶을만큼 너무 좋았다고 생각합니다.\n",
        "\n",
        "아쉬운 점 : 아쉬운 점은 없었고, 다만, 세연님의 결론에 맞게 그 과정을 설명하신 만큼 그동안 진행하신 내용을 모두 볼 수는 없었기에 다른 건 어떻게 진행하셨을지 너무 궁금했던 영상이었습니다. 너무 수고하셨습니다. ^^b"
      ]
    },
    {
      "cell_type": "markdown",
      "metadata": {
        "id": "bjOp7-_H_0w-"
      },
      "source": [
        "[Section 1 프로젝트 피드백]\n",
        "\n",
        "작성자 : ㅇㅇㅅ\n",
        "\n",
        "좋았던 점 : 발표하시는 속도나 발음이 좋아서 전달력이 좋았습니다. 주제도 벗어나지 않았으며 코랩의 자료들도 어떤 것을 위해서 어떠한 과정을 거쳤는지 제목을 잘 붙이셔서 순차적으로 이해하기 좋았습니다.\n",
        "\n",
        "아쉬운 점 : 도메인 지식(단종된 플랫폼 등)이 데이터 분석에 반영이 되지 않아 정확한 결과를 얻기에는 다소 부족할 수 있을 것 같습니다. 다음 분기의 트렌드를 파악하기 위해 넣은 데이터의 범위(연도)가 적절한지 등, 해결하고자 하는 문제에 적합한 데이터셋을 갖춘다면 보다 더 설득력이 있는 데이터분석이 될 것이라 생각합니다. 영상과 자료 잘 봤습니다. 수고하셨습니다!"
      ]
    }
  ]
}